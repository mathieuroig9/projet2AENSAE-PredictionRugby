{
 "cells": [
  {
   "cell_type": "markdown",
   "metadata": {},
   "source": [
    "# Top 14 Rugby ?\n",
    "\n",
    "par Benjamin Cerf, Tristan Delhaye & Mathieu Roig"
   ]
  },
  {
   "cell_type": "markdown",
   "metadata": {},
   "source": [
    "<a id=\"intro\"></a>\n",
    "# Introduction\n",
    "\n",
    "à rédiger"
   ]
  },
  {
   "cell_type": "markdown",
   "metadata": {},
   "source": [
    "<a id=\"sommaire\"></a>\n",
    "### Sommaire\n",
    "- [Introduction](#intro)\n",
    "  - [Sommaire](#sommaire)\n",
    "  - [Installation](#installation)\n",
    "- [Données](#données)\n",
    "  - [Web-Scraping](#scraping)\n",
    "  - [Nettoyage](#nettoyage)\n",
    "  - [Regroupement](#regroupement)\n",
    "  - [Mapping des noms de clubs](#mapping)\n",
    "- [Visualisation](#visual)\n",
    "  - [Statistiques](#stats)\n",
    "  - [Analyse](#analyse)\n",
    "- [Modèle prédictif](#predict)\n",
    "- [Conclusion](#conclu)"
   ]
  },
  {
   "cell_type": "markdown",
   "metadata": {},
   "source": [
    "<a id=\"installation\"></a>\n",
    "### Installation"
   ]
  },
  {
   "cell_type": "code",
   "execution_count": 5,
   "metadata": {},
   "outputs": [
    {
     "name": "stdout",
     "output_type": "stream",
     "text": [
      "Requirement already satisfied: lxml in /opt/conda/lib/python3.12/site-packages (5.3.0)\n"
     ]
    },
    {
     "data": {
      "text/plain": [
       "0"
      ]
     },
     "execution_count": 5,
     "metadata": {},
     "output_type": "execute_result"
    }
   ],
   "source": [
    "#packages:\n",
    "from io import StringIO\n",
    "import pandas as pd\n",
    "import requests\n",
    "import re\n",
    "from bs4 import BeautifulSoup\n",
    "import sys\n",
    "import subprocess\n",
    "import os\n",
    "import numpy as np\n",
    "import matplotlib.pyplot as plt\n",
    "\n",
    "#lxml\n",
    "subprocess.check_call([sys.executable, \"-m\", \"pip\", \"install\", \"lxml\"])\n",
    "\n",
    "# ajouter pour partie predict"
   ]
  },
  {
   "cell_type": "markdown",
   "metadata": {},
   "source": [
    "<a id=\"données\"></a>\n",
    "# Données\n",
    "\n",
    "<a id=\"scraping\"></a>\n",
    "### Web-Scraping\n",
    "\n",
    "Nous récupérons sur Wikipédia les données sur le championnat de France de rugby à XV de 2016 à aujourd'hui. Chaque saison a sa propre page wikipédia dédiée et la présentation des résultats peut légèrement différer en fonction de l'année: voir ici la saison [2016-2017](https://fr.wikipedia.org/wiki/Championnat_de_France_de_rugby_%C3%A0_XV_2016-2017) par rapport à la saison [2024-2025](https://fr.wikipedia.org/wiki/Championnat_de_France_de_rugby_%C3%A0_XV_2024-2025)."
   ]
  },
  {
   "cell_type": "code",
   "execution_count": 6,
   "metadata": {},
   "outputs": [
    {
     "name": "stdout",
     "output_type": "stream",
     "text": [
      "['https://fr.wikipedia.org/wiki/Championnat_de_France_de_rugby_%C3%A0_XV_2016-2017', 'https://fr.wikipedia.org/wiki/Championnat_de_France_de_rugby_%C3%A0_XV_2017-2018', 'https://fr.wikipedia.org/wiki/Championnat_de_France_de_rugby_%C3%A0_XV_2018-2019', 'https://fr.wikipedia.org/wiki/Championnat_de_France_de_rugby_%C3%A0_XV_2019-2020', 'https://fr.wikipedia.org/wiki/Championnat_de_France_de_rugby_%C3%A0_XV_2020-2021', 'https://fr.wikipedia.org/wiki/Championnat_de_France_de_rugby_%C3%A0_XV_2021-2022', 'https://fr.wikipedia.org/wiki/Championnat_de_France_de_rugby_%C3%A0_XV_2022-2023', 'https://fr.wikipedia.org/wiki/Championnat_de_France_de_rugby_%C3%A0_XV_2023-2024', 'https://fr.wikipedia.org/wiki/Championnat_de_France_de_rugby_%C3%A0_XV_2024-2025']\n"
     ]
    }
   ],
   "source": [
    "urls = [f\"https://fr.wikipedia.org/wiki/Championnat_de_France_de_rugby_%C3%A0_XV_{year}-{year+1}\"\n",
    "    for year in range(2016, 2025)]\n",
    "print(urls)"
   ]
  },
  {
   "cell_type": "markdown",
   "metadata": {},
   "source": [
    "Nous utilisons donc plusieurs versions d'une même fonction data dans scrapData.py qui récupère les tableaux de présentation générale, du classement, de son évolution, les résultats détaillés par match, et aussi la forme des équipes en fonction des jours de match."
   ]
  },
  {
   "cell_type": "code",
   "execution_count": 7,
   "metadata": {},
   "outputs": [],
   "source": [
    "sys.path.append(os.path.abspath('./scripts'))\n",
    "from scrapData import data2325, data2223, data2122, data2021, data1920, data1619\n",
    "\n",
    "tab1617 = data1619(urls[0])\n",
    "tab1718 = data1619(urls[1])\n",
    "tab1819 = data1619(urls[2])\n",
    "tab1920 = data1920(urls[3])\n",
    "tab2021 = data2021(urls[4])\n",
    "tab2122 = data2122(urls[5])\n",
    "tab2223 = data2223(urls[6])\n",
    "tab2324 = data2325(urls[7])\n",
    "tab2425 = data2325(urls[8])"
   ]
  },
  {
   "cell_type": "markdown",
   "metadata": {},
   "source": [
    "<a id=\"nettoyage\"></a>\n",
    "### Nettoyage\n",
    "\n",
    "La fonction nettoyage de cleanData.py uniformise les données du scraping. Les noms des équipes sont nettoyés, on se débarrasse des notes, et les classements sont tous mis sous forme numérique (ex: 1er -> 1, 2ème -> 2...). Les valeurs manquantes sont aussi remplacées par un tiret."
   ]
  },
  {
   "cell_type": "code",
   "execution_count": 8,
   "metadata": {},
   "outputs": [],
   "source": [
    "from cleanData import nettoyage\n",
    "\n",
    "nettoyage(*tab1617)\n",
    "nettoyage(*tab1718)\n",
    "nettoyage(*tab1819)\n",
    "nettoyage(*tab1920)\n",
    "nettoyage(*tab2021)\n",
    "nettoyage(*tab2122)\n",
    "nettoyage(*tab2223)\n",
    "nettoyage(*tab2324)\n",
    "nettoyage(*tab2425)"
   ]
  },
  {
   "cell_type": "markdown",
   "metadata": {},
   "source": [
    "<a id=\"regroupement\"></a>\n",
    "### Regroupement\n",
    "\n",
    "Chaque tab est en réalité une liste de 5 dataframes. Nous allons donc pour chaque tableau fusionner les résultats des 9 dernières années, sauf celui des résultats globaux. "
   ]
  },
  {
   "cell_type": "code",
   "execution_count": 9,
   "metadata": {},
   "outputs": [],
   "source": [
    "# On va maintenant fusionner les tableaux, on change le nom pour faciliter la boucle :\n",
    "tab1 = tab1617\n",
    "tab2 = tab1718\n",
    "tab3 = tab1819\n",
    "tab4 = tab1920\n",
    "tab5 = tab2021\n",
    "tab6 = tab2122\n",
    "tab7 = tab2223\n",
    "tab8 = tab2324\n",
    "tab9 = tab2425\n",
    "\n",
    "# On crée une fonction qui permet d'ajouter une colonne année à chaque tableau pour bien pouvoir les séparer par année si besoin après\n",
    "def ajout_an(df,i):\n",
    "   df[\"année\"] = 2016 + i\n",
    "   return df\n",
    "\n",
    "# On va faire maintenant une boucle pour concaténer les tableaux entre eux :\n",
    "tableauglobal = [pd.DataFrame() for _ in range(5)]\n",
    "# On remarquera que l'on ne prend pas le tableau résultat global car les équipes du championnat changent chaque année donc ce n'est pas possible de le concaténer\n",
    "\n",
    "for j in range(1, 10):\n",
    "    for i in range(5):\n",
    "        if i == 2:\n",
    "            pass  # on ne récupère pas le tableau résultat\n",
    "        else:\n",
    "         tableauglobal[i] = pd.concat([tableauglobal[i], ajout_an(eval(f\"tab{j}\")[i], j - 1)], ignore_index=True)\n",
    "\n",
    "tab_presentation_global = tableauglobal[0]\n",
    "tab_classement_global = tableauglobal[1]\n",
    "tab_evolution_classement_global = tableauglobal[3]\n",
    "tab_forme_global = tableauglobal[4]\n",
    "tab_presentation_global['Budget en M€'] = pd.to_numeric(tab_presentation_global['Budget en M€'], errors='coerce')\n",
    "tab_presentation_global['Classement précédent'] = pd.to_numeric(tab_presentation_global['Classement précédent'], errors='coerce')\n"
   ]
  },
  {
   "cell_type": "markdown",
   "metadata": {},
   "source": [
    "<a id=\"mapping\"></a>\n",
    "### Mapping des noms de clubs\n",
    "\n",
    "Enfin certaines équipes n'ont pas toujours leur nom écrit de la même façon."
   ]
  },
  {
   "cell_type": "code",
   "execution_count": 12,
   "metadata": {},
   "outputs": [
    {
     "name": "stdout",
     "output_type": "stream",
     "text": [
      "       Dernière montée  Budget en M€  Classement précédent      Capacité  \\\n",
      "count       126.000000    112.000000            126.000000    121.000000   \n",
      "mean       1996.460317     27.215268              7.714286  19528.446281   \n",
      "std          34.203544      7.655976              4.410636   7102.591448   \n",
      "min        1907.000000     12.320000              1.000000  11400.000000   \n",
      "25%        1997.000000     22.750000              4.000000  14593.000000   \n",
      "50%        2010.000000     27.190000              7.500000  18069.000000   \n",
      "75%        2016.000000     32.000000             11.000000  20000.000000   \n",
      "max        2024.000000     49.000000             17.000000  35052.000000   \n",
      "\n",
      "             année  \n",
      "count   126.000000  \n",
      "mean   2020.000000  \n",
      "std       2.592296  \n",
      "min    2016.000000  \n",
      "25%    2018.000000  \n",
      "50%    2020.000000  \n",
      "75%    2022.000000  \n",
      "max    2024.000000  \n",
      "             Rang           J           V           N           D          Em  \\\n",
      "count  126.000000  126.000000  126.000000  126.000000  126.000000  126.000000   \n",
      "mean     7.500000   23.460317   11.396825    0.666667   11.396825   59.119048   \n",
      "std      4.047221    4.908199    4.069554    0.809938    4.155150   18.461899   \n",
      "min      1.000000   12.000000    0.000000    0.000000    3.000000   19.000000   \n",
      "25%      4.000000   26.000000    8.250000    0.000000    9.000000   43.250000   \n",
      "50%      7.500000   26.000000   12.000000    0.500000   11.000000   58.000000   \n",
      "75%     11.000000   26.000000   15.000000    1.000000   14.000000   72.000000   \n",
      "max     14.000000   26.000000   21.000000    3.000000   26.000000  103.000000   \n",
      "\n",
      "               Ee          Bo          Bd          Pm           Pe  \\\n",
      "count  126.000000  126.000000  126.000000  126.000000   126.000000   \n",
      "mean    59.126984    3.722222    3.611111  556.611111   556.611111   \n",
      "std     20.853387    2.490426    1.743432  145.636313   155.262666   \n",
      "min     22.000000    0.000000    0.000000  207.000000   188.000000   \n",
      "25%     45.000000    2.000000    2.000000  451.500000   478.250000   \n",
      "50%     56.500000    4.000000    4.000000  584.000000   560.000000   \n",
      "75%     73.500000    5.000000    5.000000  656.500000   648.750000   \n",
      "max    146.000000   12.000000    8.000000  830.000000  1101.000000   \n",
      "\n",
      "             Diff         Pts        année  \n",
      "count  126.000000  126.000000   126.000000  \n",
      "mean     0.000000   54.253968  2020.000000  \n",
      "std    167.126395   18.650871     2.592296  \n",
      "min   -786.000000    2.000000  2016.000000  \n",
      "25%    -81.500000   41.000000  2018.000000  \n",
      "50%     11.500000   57.000000  2020.000000  \n",
      "75%    122.750000   69.000000  2022.000000  \n",
      "max    312.000000   98.000000  2024.000000  \n",
      "             année\n",
      "count   126.000000\n",
      "mean   2020.000000\n",
      "std       2.592296\n",
      "min    2016.000000\n",
      "25%    2018.000000\n",
      "50%    2020.000000\n",
      "75%    2022.000000\n",
      "max    2024.000000\n",
      "               J1          J2          J3          J4          J5          J6  \\\n",
      "count  126.000000  126.000000  126.000000  126.000000  126.000000  126.000000   \n",
      "mean     7.500000    7.500000    7.500000    7.507937    7.500000    7.500000   \n",
      "std      4.047221    4.047221    4.047221    4.041279    4.047221    4.047221   \n",
      "min      1.000000    1.000000    1.000000    1.000000    1.000000    1.000000   \n",
      "25%      4.000000    4.000000    4.000000    4.000000    4.000000    4.000000   \n",
      "50%      7.500000    7.500000    7.500000    7.500000    7.500000    7.500000   \n",
      "75%     11.000000   11.000000   11.000000   11.000000   11.000000   11.000000   \n",
      "max     14.000000   14.000000   14.000000   14.000000   14.000000   14.000000   \n",
      "\n",
      "               J7          J8          J9         J10  ...        J18  \\\n",
      "count  126.000000  126.000000  126.000000  126.000000  ...  98.000000   \n",
      "mean     7.507937    7.484127    7.500000    7.500000  ...   7.500000   \n",
      "std      4.045236    4.055089    4.047221    4.047221  ...   4.051855   \n",
      "min      1.000000    1.000000    1.000000    1.000000  ...   1.000000   \n",
      "25%      4.000000    4.000000    4.000000    4.000000  ...   4.000000   \n",
      "50%      7.500000    7.500000    7.500000    7.500000  ...   7.500000   \n",
      "75%     11.000000   11.000000   11.000000   11.000000  ...  11.000000   \n",
      "max     14.000000   14.000000   14.000000   14.000000  ...  14.000000   \n",
      "\n",
      "             J19        J20         J21         J22         J23        J24  \\\n",
      "count  98.000000  98.000000   98.000000   98.000000   98.000000  98.000000   \n",
      "mean    7.500000   7.500000   10.295918   10.112245    9.744898   9.530612   \n",
      "std     4.051855   4.051855   15.746189   14.924471   12.481996  11.068860   \n",
      "min     1.000000   1.000000    1.000000    1.000000    1.000000   1.000000   \n",
      "25%     4.000000   4.000000    4.000000    4.000000    4.000000   4.000000   \n",
      "50%     7.500000   7.500000    8.000000    8.000000    8.000000   8.000000   \n",
      "75%    11.000000  11.000000   11.000000   11.000000   11.750000  11.750000   \n",
      "max    14.000000  14.000000  121.000000  121.000000  101.000000  81.000000   \n",
      "\n",
      "             J25        J26        année  \n",
      "count  98.000000  98.000000   126.000000  \n",
      "mean    7.479592   7.500000  2020.000000  \n",
      "std     4.054346   4.051855     2.592296  \n",
      "min     1.000000   1.000000  2016.000000  \n",
      "25%     4.000000   4.000000  2018.000000  \n",
      "50%     7.500000   7.500000  2020.000000  \n",
      "75%    11.000000  11.000000  2022.000000  \n",
      "max    14.000000  14.000000  2024.000000  \n",
      "\n",
      "[8 rows x 27 columns]\n"
     ]
    }
   ],
   "source": [
    "presentation = tab_presentation_global\n",
    "classement = tab_classement_global\n",
    "evolution = tab_evolution_classement_global\n",
    "forme = tab_forme_global\n",
    "\n",
    "# Fusion des différentes données en un seul data frame\n",
    "# On va fusionner les tableaux en se servant du club et de l'année comme clef\n",
    "# On commence déjà par uniformiser le nom de la colonne 'Club':\n",
    "evolution.rename(columns={'Equipes/Journées': 'Club'}, inplace=True)\n",
    "forme.rename(columns={'Equipes/Journées': 'Club'}, inplace=True)\n",
    "\n",
    "# En fait en faisant la fusion on se rend compte qu'un même club est appelé de manière différentes selon le tableau\n",
    "# On va donc harmoniser ça\n",
    "# On trouve les différences d'appelations grâce au code suivant : \n",
    "# Clés uniques dans chaque DataFrame\n",
    "# keys_presentation = set(presentation[['Club', 'année']].itertuples(index=False, name=None))\n",
    "# keys_classement = set(classement[['Club', 'année']].itertuples(index=False, name=None))\n",
    "# keys_evolution = set(evolution[['Club', 'année']].itertuples(index=False, name=None))\n",
    "# keys_forme = set(forme[['Club', 'année']].itertuples(index=False, name=None))\n",
    "# Lignes présentes uniquement dans presentation\n",
    "# diff_presentation = keys_presentation - keys_classement\n",
    "# print(\"Lignes dans presentation mais pas dans classement :\", diff_presentation)\n",
    "#  # Lignes présentes uniquement dans classement\n",
    "# diff_classement = keys_classement - keys_presentation\n",
    "#  print(\"Lignes dans classement mais pas dans presentation :\", diff_classement)\n",
    "# Le premier tableau utilise la dénomination 'Stade français' tandis que le second 'Stade français Paris'\n",
    "# On procède de même avec les différents tableaux pour observer toutes les appelations différentes (on le fait par rapport à classement)\n",
    "# On répertorie alors ces appelations différentes pour pouvoir par la suite uniformiser tout les noms : \n",
    "\n",
    "mapping = {\n",
    "    'Paris' : 'Stade français Paris',\n",
    "    'Stade français': 'Stade français Paris',\n",
    "    'Clermont': 'ASM Clermont',\n",
    "    'La Rochelle': 'Stade rochelais',\n",
    "    'Toulouse': 'Stade toulousain',\n",
    "    'Bayonne': 'Aviron bayonnais',\n",
    "    'Brive': 'CA Brive',\n",
    "    'Montpellier': 'Montpellier HR',\n",
    "    'Toulon': 'RC Toulon',\n",
    "    'Castres': 'Castres olympique',\n",
    "    'Pau': 'Section paloise',\n",
    "    'Agen': 'SU Agen',\n",
    "    'Grenoble': 'FC Grenoble',\n",
    "    'Oyonnax': 'US Oyonnax',\n",
    "    'Perpignan': 'USA Perpignan',\n",
    "    'Bordeaux-Bègles': 'Union Bordeaux Bègles',\n",
    "    'Bordeaux Bègles' : 'Union Bordeaux Bègles',\n",
    "    'Lyon' : 'Lyon OU'\n",
    "}\n",
    "\n",
    "# On a plus qu'à uniformiser les noms dans tout les tableaux\n",
    "presentation['Club'] = presentation['Club'].replace(mapping)\n",
    "classement['Club'] = classement['Club'].replace(mapping)\n",
    "forme['Club'] = forme['Club'].replace(mapping)\n",
    "evolution['Club'] = evolution['Club'].replace(mapping)\n",
    "\n",
    "print(presentation.describe())\n",
    "print(classement.describe())\n",
    "print(forme.describe())\n",
    "print(evolution.describe())"
   ]
  },
  {
   "cell_type": "code",
   "execution_count": null,
   "metadata": {},
   "outputs": [],
   "source": [
    "# fixer les données nettoyées dans SSPcloud ?\n",
    "ou alors juste exporter \n",
    "#import s3fs\n",
    "#MY_BUCKET ="
   ]
  },
  {
   "cell_type": "markdown",
   "metadata": {},
   "source": []
  },
  {
   "cell_type": "markdown",
   "metadata": {},
   "source": [
    "<a id=\"visual\"></a>\n",
    "# Visualisation\n",
    "\n",
    "<a id=\"stats\"></a>\n",
    "### Statistiques\n"
   ]
  },
  {
   "cell_type": "code",
   "execution_count": null,
   "metadata": {},
   "outputs": [],
   "source": []
  },
  {
   "cell_type": "markdown",
   "metadata": {},
   "source": [
    "<a id=\"analyse\"></a>\n",
    "### Analyse"
   ]
  },
  {
   "cell_type": "code",
   "execution_count": null,
   "metadata": {},
   "outputs": [],
   "source": []
  },
  {
   "cell_type": "markdown",
   "metadata": {},
   "source": [
    "<a id=\"predict\"></a>\n",
    "# Modèle prédictif"
   ]
  },
  {
   "cell_type": "markdown",
   "metadata": {},
   "source": [
    "<a id=\"conclu\"></a>\n",
    "# Conclusion\n",
    "\n",
    "à rédiger, rester réaliste et dire ce qu'on aurait pu faire de mieux"
   ]
  }
 ],
 "metadata": {
  "kernelspec": {
   "display_name": "base",
   "language": "python",
   "name": "python3"
  },
  "language_info": {
   "codemirror_mode": {
    "name": "ipython",
    "version": 3
   },
   "file_extension": ".py",
   "mimetype": "text/x-python",
   "name": "python",
   "nbconvert_exporter": "python",
   "pygments_lexer": "ipython3",
   "version": "3.12.7"
  }
 },
 "nbformat": 4,
 "nbformat_minor": 2
}
