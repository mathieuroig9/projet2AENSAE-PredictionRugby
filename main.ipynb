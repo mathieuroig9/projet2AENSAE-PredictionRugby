{
 "cells": [
  {
   "cell_type": "markdown",
   "metadata": {},
   "source": [
    "# Top 14 Rugby ?\n",
    "\n",
    "par Benjamin Cerf, Tristan Delhaye & Mathieu Roig"
   ]
  },
  {
   "cell_type": "markdown",
   "metadata": {},
   "source": [
    "<a id=\"intro\"></a>\n",
    "# Introduction\n",
    "\n",
    "à rédiger, \n",
    "+ Démarche scientifique et reproductibilité du projet"
   ]
  },
  {
   "cell_type": "markdown",
   "metadata": {},
   "source": [
    "<a id=\"sommaire\"></a>\n",
    "### Sommaire\n",
    "- [Introduction](#intro)\n",
    "  - [Sommaire](#sommaire)\n",
    "  - [Installation](#installation)\n",
    "- [Données](#données)\n",
    "  - [Web-Scraping](#scraping)\n",
    "  - [Nettoyage](#nettoyage)\n",
    "  - [Regroupement](#regroupement)\n",
    "  - [Mapping des noms de clubs](#mapping)\n",
    "- [Statistiques Descriptives](#stats)\n",
    "  - [Visualisation](#visual)\n",
    "  - [Analyse](#analyse)\n",
    "- [Modèle prédictif](#predict)\n",
    "- [Conclusion](#conclu)"
   ]
  },
  {
   "cell_type": "markdown",
   "metadata": {},
   "source": [
    "<a id=\"installation\"></a>\n",
    "### Installation"
   ]
  },
  {
   "cell_type": "code",
   "execution_count": 3,
   "metadata": {},
   "outputs": [
    {
     "name": "stdout",
     "output_type": "stream",
     "text": [
      "Requirement already satisfied: lxml in /opt/conda/lib/python3.12/site-packages (5.3.0)\n"
     ]
    },
    {
     "data": {
      "text/plain": [
       "0"
      ]
     },
     "execution_count": 3,
     "metadata": {},
     "output_type": "execute_result"
    }
   ],
   "source": [
    "#packages:\n",
    "from io import StringIO\n",
    "import pandas as pd\n",
    "import requests\n",
    "import re\n",
    "from bs4 import BeautifulSoup\n",
    "import sys\n",
    "import subprocess\n",
    "import os\n",
    "import numpy as np\n",
    "import matplotlib.pyplot as plt\n",
    "\n",
    "#lxml\n",
    "subprocess.check_call([sys.executable, \"-m\", \"pip\", \"install\", \"lxml\"])\n",
    "\n",
    "# ajouter pour partie predict"
   ]
  },
  {
   "cell_type": "markdown",
   "metadata": {},
   "source": [
    "<a id=\"données\"></a>\n",
    "# Données\n",
    "\n",
    "<a id=\"scraping\"></a>\n",
    "### Web-Scraping\n",
    "\n",
    "Nous récupérons sur Wikipédia les données sur le championnat de France de rugby à XV de 2016 à aujourd'hui. Chaque saison a sa propre page wikipédia dédiée et la présentation des résultats peut légèrement différer en fonction de l'année: voir ici la saison [2016-2017](https://fr.wikipedia.org/wiki/Championnat_de_France_de_rugby_%C3%A0_XV_2016-2017) par rapport à la saison [2024-2025](https://fr.wikipedia.org/wiki/Championnat_de_France_de_rugby_%C3%A0_XV_2024-2025)."
   ]
  },
  {
   "cell_type": "code",
   "execution_count": 4,
   "metadata": {},
   "outputs": [
    {
     "name": "stdout",
     "output_type": "stream",
     "text": [
      "['https://fr.wikipedia.org/wiki/Championnat_de_France_de_rugby_%C3%A0_XV_2016-2017', 'https://fr.wikipedia.org/wiki/Championnat_de_France_de_rugby_%C3%A0_XV_2017-2018', 'https://fr.wikipedia.org/wiki/Championnat_de_France_de_rugby_%C3%A0_XV_2018-2019', 'https://fr.wikipedia.org/wiki/Championnat_de_France_de_rugby_%C3%A0_XV_2019-2020', 'https://fr.wikipedia.org/wiki/Championnat_de_France_de_rugby_%C3%A0_XV_2020-2021', 'https://fr.wikipedia.org/wiki/Championnat_de_France_de_rugby_%C3%A0_XV_2021-2022', 'https://fr.wikipedia.org/wiki/Championnat_de_France_de_rugby_%C3%A0_XV_2022-2023', 'https://fr.wikipedia.org/wiki/Championnat_de_France_de_rugby_%C3%A0_XV_2023-2024', 'https://fr.wikipedia.org/wiki/Championnat_de_France_de_rugby_%C3%A0_XV_2024-2025']\n"
     ]
    }
   ],
   "source": [
    "urls = [f\"https://fr.wikipedia.org/wiki/Championnat_de_France_de_rugby_%C3%A0_XV_{year}-{year+1}\"\n",
    "    for year in range(2016, 2025)]\n",
    "print(urls)"
   ]
  },
  {
   "cell_type": "markdown",
   "metadata": {},
   "source": [
    "Nous utilisons donc plusieurs versions d'une même fonction data dans scrapData.py qui récupère les tableaux de présentation générale, du classement, de son évolution, les résultats détaillés par match, et aussi la forme des équipes en fonction des jours de match."
   ]
  },
  {
   "cell_type": "code",
   "execution_count": 5,
   "metadata": {},
   "outputs": [
    {
     "name": "stdout",
     "output_type": "stream",
     "text": [
      "Requirement already satisfied: lxml in /opt/conda/lib/python3.12/site-packages (5.3.0)\n"
     ]
    }
   ],
   "source": [
    "sys.path.append(os.path.abspath('./scripts'))\n",
    "from scrapData import data2325, data2223, data2122, data2021, data1920, data1619\n",
    "\n",
    "tab1617 = data1619(urls[0])\n",
    "tab1718 = data1619(urls[1])\n",
    "tab1819 = data1619(urls[2])\n",
    "tab1920 = data1920(urls[3])\n",
    "tab2021 = data2021(urls[4])\n",
    "tab2122 = data2122(urls[5])\n",
    "tab2223 = data2223(urls[6])\n",
    "tab2324 = data2325(urls[7])\n",
    "tab2425 = data2325(urls[8])"
   ]
  },
  {
   "cell_type": "markdown",
   "metadata": {},
   "source": [
    "<a id=\"nettoyage\"></a>\n",
    "### Nettoyage\n",
    "\n",
    "La fonction nettoyage de cleanData.py uniformise les données du scraping. Les noms des équipes sont nettoyés, on se débarrasse des notes, et les classements sont tous mis sous forme numérique (ex: 1er -> 1, 2ème -> 2...). Les valeurs manquantes sont aussi remplacées par un tiret."
   ]
  },
  {
   "cell_type": "code",
   "execution_count": 6,
   "metadata": {},
   "outputs": [],
   "source": [
    "from cleanData import nettoyage\n",
    "\n",
    "nettoyage(*tab1617)\n",
    "nettoyage(*tab1718)\n",
    "nettoyage(*tab1819)\n",
    "nettoyage(*tab1920)\n",
    "nettoyage(*tab2021)\n",
    "nettoyage(*tab2122)\n",
    "nettoyage(*tab2223)\n",
    "nettoyage(*tab2324)\n",
    "nettoyage(*tab2425)"
   ]
  },
  {
   "cell_type": "markdown",
   "metadata": {},
   "source": [
    "<a id=\"regroupement\"></a>\n",
    "### Regroupement\n",
    "\n",
    "Chaque tab est en réalité une liste de 5 dataframes. Nous allons donc pour chaque tableau fusionner les résultats des 9 dernières années, sauf celui des résultats globaux. "
   ]
  },
  {
   "cell_type": "code",
   "execution_count": 7,
   "metadata": {},
   "outputs": [],
   "source": [
    "# On va maintenant fusionner les tableaux, on change le nom pour faciliter la boucle :\n",
    "tab1 = tab1617\n",
    "tab2 = tab1718\n",
    "tab3 = tab1819\n",
    "tab4 = tab1920\n",
    "tab5 = tab2021\n",
    "tab6 = tab2122\n",
    "tab7 = tab2223\n",
    "tab8 = tab2324\n",
    "tab9 = tab2425\n",
    "\n",
    "# On crée une fonction qui permet d'ajouter une colonne année à chaque tableau pour bien pouvoir les séparer par année si besoin après\n",
    "def ajout_an(df,i):\n",
    "   df[\"année\"] = 2016 + i\n",
    "   return df\n",
    "\n",
    "# On va faire maintenant une boucle pour concaténer les tableaux entre eux :\n",
    "tableauglobal = [pd.DataFrame() for _ in range(5)]\n",
    "# On remarquera que l'on ne prend pas le tableau résultat global car les équipes du championnat changent chaque année donc ce n'est pas possible de le concaténer\n",
    "\n",
    "for j in range(1, 10):\n",
    "    for i in range(5):\n",
    "        if i == 2:\n",
    "            pass  # on ne récupère pas le tableau résultat\n",
    "        else:\n",
    "         tableauglobal[i] = pd.concat([tableauglobal[i], ajout_an(eval(f\"tab{j}\")[i], j - 1)], ignore_index=True)\n",
    "\n",
    "tab_presentation_global = tableauglobal[0]\n",
    "tab_classement_global = tableauglobal[1]\n",
    "tab_evolution_classement_global = tableauglobal[3]\n",
    "tab_forme_global = tableauglobal[4]\n",
    "tab_presentation_global['Budget en M€'] = pd.to_numeric(tab_presentation_global['Budget en M€'], errors='coerce')\n",
    "tab_presentation_global['Classement précédent'] = pd.to_numeric(tab_presentation_global['Classement précédent'], errors='coerce')\n"
   ]
  },
  {
   "cell_type": "markdown",
   "metadata": {},
   "source": [
    "<a id=\"mapping\"></a>\n",
    "### Mapping des noms de clubs\n",
    "\n",
    "Enfin certaines équipes n'ont pas toujours leur nom écrit de la même façon."
   ]
  },
  {
   "cell_type": "code",
   "execution_count": 8,
   "metadata": {},
   "outputs": [],
   "source": [
    "presentation = tab_presentation_global\n",
    "classement = tab_classement_global\n",
    "evolution = tab_evolution_classement_global\n",
    "forme = tab_forme_global\n",
    "\n",
    "# Fusion des différentes données en un seul data frame\n",
    "# On va fusionner les tableaux en se servant du club et de l'année comme clef\n",
    "# On commence déjà par uniformiser le nom de la colonne 'Club':\n",
    "evolution.rename(columns={'Equipes/Journées': 'Club'}, inplace=True)\n",
    "forme.rename(columns={'Equipes/Journées': 'Club'}, inplace=True)\n",
    "\n",
    "# En fait en faisant la fusion on se rend compte qu'un même club est appelé de manière différentes selon le tableau\n",
    "# On va donc harmoniser ça\n",
    "# On trouve les différences d'appelations grâce au code suivant : \n",
    "# Clés uniques dans chaque DataFrame\n",
    "# keys_presentation = set(presentation[['Club', 'année']].itertuples(index=False, name=None))\n",
    "# keys_classement = set(classement[['Club', 'année']].itertuples(index=False, name=None))\n",
    "# keys_evolution = set(evolution[['Club', 'année']].itertuples(index=False, name=None))\n",
    "# keys_forme = set(forme[['Club', 'année']].itertuples(index=False, name=None))\n",
    "# Lignes présentes uniquement dans presentation\n",
    "# diff_presentation = keys_presentation - keys_classement\n",
    "# print(\"Lignes dans presentation mais pas dans classement :\", diff_presentation)\n",
    "#  # Lignes présentes uniquement dans classement\n",
    "# diff_classement = keys_classement - keys_presentation\n",
    "#  print(\"Lignes dans classement mais pas dans presentation :\", diff_classement)\n",
    "# Le premier tableau utilise la dénomination 'Stade français' tandis que le second 'Stade français Paris'\n",
    "# On procède de même avec les différents tableaux pour observer toutes les appelations différentes (on le fait par rapport à classement)\n",
    "# On répertorie alors ces appelations différentes pour pouvoir par la suite uniformiser tout les noms : \n",
    "\n",
    "mapping = {\n",
    "    'Paris' : 'Stade français Paris',\n",
    "    'Stade français': 'Stade français Paris',\n",
    "    'Clermont': 'ASM Clermont',\n",
    "    'La Rochelle': 'Stade rochelais',\n",
    "    'Toulouse': 'Stade toulousain',\n",
    "    'Bayonne': 'Aviron bayonnais',\n",
    "    'Brive': 'CA Brive',\n",
    "    'Montpellier': 'Montpellier HR',\n",
    "    'Toulon': 'RC Toulon',\n",
    "    'Castres': 'Castres olympique',\n",
    "    'Pau': 'Section paloise',\n",
    "    'Agen': 'SU Agen',\n",
    "    'Grenoble': 'FC Grenoble',\n",
    "    'Oyonnax': 'US Oyonnax',\n",
    "    'Perpignan': 'USA Perpignan',\n",
    "    'Bordeaux-Bègles': 'Union Bordeaux Bègles',\n",
    "    'Bordeaux Bègles' : 'Union Bordeaux Bègles',\n",
    "    'Lyon' : 'Lyon OU'\n",
    "}\n",
    "\n",
    "# On a plus qu'à uniformiser les noms dans tout les tableaux\n",
    "presentation['Club'] = presentation['Club'].replace(mapping)\n",
    "classement['Club'] = classement['Club'].replace(mapping)\n",
    "forme['Club'] = forme['Club'].replace(mapping)\n",
    "evolution['Club'] = evolution['Club'].replace(mapping)\n",
    "\n",
    "#print(presentation.describe())\n",
    "#print(classement.describe())\n",
    "#print(forme.describe())\n",
    "#print(evolution.describe())"
   ]
  },
  {
   "cell_type": "markdown",
   "metadata": {},
   "source": [
    "On agrège ensuite les différents tableaux en un seul dataframe nommé données, que l'on stocke aussi dans le dossier data."
   ]
  },
  {
   "cell_type": "code",
   "execution_count": 10,
   "metadata": {},
   "outputs": [],
   "source": [
    "data = pd.merge(presentation, classement, on=['Club', 'année'], how='inner')\n",
    "data = pd.merge(data, evolution, on=['Club', 'année'], how='inner')\n",
    "data = pd.merge(data, forme, on=['Club', 'année'], how='inner')\n",
    "\n",
    "data.to_csv('./data/données.csv', index=False)\n",
    "\n",
    "# fixer les données nettoyées dans SSPcloud ?\n",
    "#import s3fs\n",
    "#MY_BUCKET ="
   ]
  },
  {
   "cell_type": "markdown",
   "metadata": {},
   "source": [
    "<a id=\"stats\"></a>\n",
    "# Statistiques Descriptives\n",
    "\n",
    "<a id=\"visual\"></a>\n",
    "### Visualisation\n",
    "\n",
    "La fonction club de computeData permet d'obtenir les statistiques descriptives pour un club en particulier, pour chaque année qu'il passe dans le top 14: son budget en M€, son entraîneur, son rang, et le nombre de recontres jouées, dont les victoires et les défaites."
   ]
  },
  {
   "cell_type": "code",
   "execution_count": 14,
   "metadata": {},
   "outputs": [
    {
     "name": "stdout",
     "output_type": "stream",
     "text": [
      "                       24/25     23/24     22/23     21/22     20/21  \\\n",
      "Budget en M€            49.0      46.3       NaN      37.3      36.6   \n",
      "Entraîneur en chef  Ugo Mola  Ugo Mola  Ugo Mola  Ugo Mola  Ugo Mola   \n",
      "Rang                       2         1         1         4         1   \n",
      "J                         12        26        26        26        26   \n",
      "V                          8        16        17        15        17   \n",
      "D                          3         9         8        11         8   \n",
      "Diff                     159       173       208       206       210   \n",
      "\n",
      "                       19/20     18/19     17/18     16/17  \n",
      "Budget en M€            37.2      32.0     30.86      31.5  \n",
      "Entraîneur en chef  Ugo Mola  Ugo Mola  Ugo Mola  Ugo Mola  \n",
      "Rang                       7         1         3        12  \n",
      "J                         17        26        26        26  \n",
      "V                          8        21        16        11  \n",
      "D                          8         3         9        15  \n",
      "Diff                      37       312       124       -24  \n"
     ]
    }
   ],
   "source": [
    "from computeData import plot_club_evolution, club\n",
    "\n",
    "#par exemple pour Toulouse:\n",
    "toulouse=club(\"Stade toulousain\", tab_presentation_global, tab_classement_global)\n",
    "print(toulouse)"
   ]
  },
  {
   "cell_type": "code",
   "execution_count": null,
   "metadata": {},
   "outputs": [],
   "source": [
    "#plot_club_evolution(\"Stade toulousain\", tab_evolution_classement_global, tab_forme_global)"
   ]
  },
  {
   "cell_type": "markdown",
   "metadata": {},
   "source": [
    "<a id=\"analyse\"></a>\n",
    "### Analyse"
   ]
  },
  {
   "cell_type": "code",
   "execution_count": null,
   "metadata": {},
   "outputs": [],
   "source": []
  },
  {
   "cell_type": "markdown",
   "metadata": {},
   "source": [
    "<a id=\"predict\"></a>\n",
    "# Modèle prédictif"
   ]
  },
  {
   "cell_type": "markdown",
   "metadata": {},
   "source": [
    "<a id=\"conclu\"></a>\n",
    "# Conclusion\n",
    "\n",
    "à rédiger, rester réaliste et dire ce qu'on aurait pu faire de mieux"
   ]
  }
 ],
 "metadata": {
  "kernelspec": {
   "display_name": "base",
   "language": "python",
   "name": "python3"
  },
  "language_info": {
   "codemirror_mode": {
    "name": "ipython",
    "version": 3
   },
   "file_extension": ".py",
   "mimetype": "text/x-python",
   "name": "python",
   "nbconvert_exporter": "python",
   "pygments_lexer": "ipython3",
   "version": "3.12.7"
  }
 },
 "nbformat": 4,
 "nbformat_minor": 2
}
